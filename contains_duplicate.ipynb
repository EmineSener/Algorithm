{
 "cells": [
  {
   "cell_type": "code",
   "execution_count": 53,
   "id": "aac674cc",
   "metadata": {},
   "outputs": [],
   "source": [
    "def containsDuplicate(liste):\n",
    "    for i in range(0,len(liste)):\n",
    "        if i == len(liste)-1:\n",
    "            return False\n",
    "        else:\n",
    "            for j in range (i+1,len(liste)):\n",
    "                if liste[i] == liste[j]:\n",
    "                    return True\n",
    "# time complexity-> 0(n^2)\n",
    "# space complexity -> 0(1)"
   ]
  },
  {
   "cell_type": "code",
   "execution_count": 56,
   "id": "92b37a11",
   "metadata": {},
   "outputs": [],
   "source": [
    "liste = [1,1,3,4]"
   ]
  },
  {
   "cell_type": "code",
   "execution_count": 57,
   "id": "3cae566f",
   "metadata": {},
   "outputs": [
    {
     "data": {
      "text/plain": [
       "True"
      ]
     },
     "execution_count": 57,
     "metadata": {},
     "output_type": "execute_result"
    }
   ],
   "source": [
    "containsDuplicate(liste)"
   ]
  },
  {
   "cell_type": "code",
   "execution_count": 52,
   "id": "93533d34",
   "metadata": {},
   "outputs": [
    {
     "name": "stdout",
     "output_type": "stream",
     "text": [
      "1 ve 1\n",
      "1 ve 11\n",
      "1 ve 3\n",
      "1 ve 4\n",
      "11 ve 11\n",
      "11 ve 3\n",
      "11 ve 4\n",
      "3 ve 3\n",
      "3 ve 4\n",
      "bitti\n"
     ]
    }
   ],
   "source": [
    "for i in range (0,len(liste)):\n",
    "    if i == len(liste) - 1:\n",
    "        print(\"bitti\")\n",
    "    else: \n",
    "        for j in range (i+1,len(liste)):\n",
    "            print(f\"{liste[i]} ve {liste[j]}\")"
   ]
  },
  {
   "cell_type": "code",
   "execution_count": 77,
   "id": "547ab0f1",
   "metadata": {},
   "outputs": [],
   "source": [
    "def containsDuplicate2(nums):\n",
    "    n = len(nums)\n",
    "    nums.sort()\n",
    "    for i in range(0,n-1):\n",
    "        if nums[i] == nums [i+1]:\n",
    "            return True \n",
    "    return False\n",
    "# time complexity-> 0(nlogn)\n",
    "# space complexity -> 0(1)"
   ]
  },
  {
   "cell_type": "code",
   "execution_count": 89,
   "id": "636c59e3",
   "metadata": {},
   "outputs": [],
   "source": [
    "nums = [1,1,33,4,5]"
   ]
  },
  {
   "cell_type": "code",
   "execution_count": 79,
   "id": "814bd991",
   "metadata": {},
   "outputs": [
    {
     "data": {
      "text/plain": [
       "True"
      ]
     },
     "execution_count": 79,
     "metadata": {},
     "output_type": "execute_result"
    }
   ],
   "source": [
    "containsDuplicate2(nums)"
   ]
  },
  {
   "cell_type": "code",
   "execution_count": 80,
   "id": "a8006fef",
   "metadata": {},
   "outputs": [],
   "source": [
    "def containsDuplicate3(nums):\n",
    "    return len(nums) != len(set(nums))"
   ]
  },
  {
   "cell_type": "code",
   "execution_count": 83,
   "id": "a6adb870",
   "metadata": {},
   "outputs": [
    {
     "data": {
      "text/plain": [
       "False"
      ]
     },
     "execution_count": 83,
     "metadata": {},
     "output_type": "execute_result"
    }
   ],
   "source": [
    "containsDuplicate3(nums)"
   ]
  },
  {
   "cell_type": "code",
   "execution_count": 86,
   "id": "c4c3a666",
   "metadata": {},
   "outputs": [],
   "source": [
    "def containsDuplicate4(nums):\n",
    "    unique_list = []\n",
    "    for num in nums:\n",
    "        if num not in unique_list:\n",
    "            unique_list.append(num)\n",
    "            \n",
    "    if unique_list != nums:\n",
    "        return True\n",
    "    else: return False"
   ]
  },
  {
   "cell_type": "code",
   "execution_count": 90,
   "id": "79be9066",
   "metadata": {},
   "outputs": [
    {
     "data": {
      "text/plain": [
       "True"
      ]
     },
     "execution_count": 90,
     "metadata": {},
     "output_type": "execute_result"
    }
   ],
   "source": [
    "containsDuplicate4(nums)"
   ]
  },
  {
   "cell_type": "code",
   "execution_count": null,
   "id": "78c42312",
   "metadata": {},
   "outputs": [],
   "source": []
  }
 ],
 "metadata": {
  "kernelspec": {
   "display_name": "Python 3 (ipykernel)",
   "language": "python",
   "name": "python3"
  },
  "language_info": {
   "codemirror_mode": {
    "name": "ipython",
    "version": 3
   },
   "file_extension": ".py",
   "mimetype": "text/x-python",
   "name": "python",
   "nbconvert_exporter": "python",
   "pygments_lexer": "ipython3",
   "version": "3.11.3"
  }
 },
 "nbformat": 4,
 "nbformat_minor": 5
}
